{
 "cells": [
  {
   "cell_type": "markdown",
   "metadata": {
    "slideshow": {
     "slide_type": "slide"
    }
   },
   "source": [
    "# Towards optimized Earth Mesh generation\n",
    "\n",
    "\n",
    "George Breyiannis, European Commission - Joint Research Centre"
   ]
  },
  {
   "cell_type": "markdown",
   "metadata": {
    "slideshow": {
     "slide_type": "slide"
    }
   },
   "source": [
    "## Context\n",
    "\n",
    "- Geomesh generation is complex and cumbersome especially in HR global level.\n",
    "\n",
    "- Several mesh generation solvers exist with significant learning curve needed in order to utilize properly.\n",
    "\n",
    "- Different parametrization and features.\n",
    "    \n",
    "- Multiple mesh types possibly including mixed type meshes."
   ]
  },
  {
   "cell_type": "markdown",
   "metadata": {
    "slideshow": {
     "slide_type": "slide"
    }
   },
   "source": [
    "## Challenge\n",
    "\n",
    "To abstract/integrate/optimize/standarize geomeshes into optimal, operational-ready workflows for large scale ocean/coastal numerical simulations. \n",
    "\n",
    "- multiple mesh generators\n",
    "- standarized parametrization/metrics\n",
    "- validation/verification \n",
    "- Efficient abstraction \n",
    "- reproducability/versioning"
   ]
  },
  {
   "cell_type": "markdown",
   "metadata": {
    "slideshow": {
     "slide_type": "subslide"
    }
   },
   "source": [
    "### Expected output\n",
    "\n",
    "- A python package that uses currently available or newly developed upstream packages with APIs to mesh generators fine tuned to geomesh generation for CFD simulations. \n",
    "\n",
    "- Use of a common data structure (xarray) for portability.\n",
    "\n",
    "- Integration into a Research-to-Operation workflow.\n",
    "\n",
    "- parity in features.\n",
    "\n",
    "- optimized default parametrization.\n",
    "\n",
    "- maximum efficiency (large meshes/ complex coastlines, 3D)"
   ]
  },
  {
   "cell_type": "markdown",
   "metadata": {
    "slideshow": {
     "slide_type": "slide"
    }
   },
   "source": [
    "## Proof of Concept : pyPoseidon\n",
    "\n",
    "A python framework for Hydrodynamic simulations (https://github.com/ec-jrc/pyPoseidon)"
   ]
  },
  {
   "cell_type": "code",
   "execution_count": null,
   "metadata": {
    "scrolled": false,
    "slideshow": {
     "slide_type": "slide"
    }
   },
   "outputs": [],
   "source": [
    "import pyposeidon.mesh as pm\n",
    "import geopandas as gp\n",
    "\n",
    "w = gp.read_file('./data/ocean.zip')\n",
    "\n",
    "## Global test\n",
    "mesh = pm.set(\n",
    "    type='tri2d',\n",
    "    geometry='global',\n",
    "    coastlines = w,\n",
    "    mesh_generator = 'gmsh', \n",
    "    rpath = './global/',\n",
    "    dem_source='./data/dem.nc', \n",
    "    resolution_min=0.001,\n",
    "    resolution_max=.03,\n",
    "    use_bindings=False, #set this to True for gmsh python bindings\n",
    "    DistMin=.0, DistMax=.1, SizeMin=.005, SizeMax=.02, MeshSizeMin=.001,MeshSizeMax=0.05, # GMSH additional settings\n",
    "              )"
   ]
  },
  {
   "cell_type": "markdown",
   "metadata": {
    "slideshow": {
     "slide_type": "subslide"
    }
   },
   "source": [
    "<img src=\"gmsh.png\" alt=\"Drawing\" style=\"width: 600px;\"/>"
   ]
  },
  {
   "cell_type": "code",
   "execution_count": null,
   "metadata": {
    "scrolled": false,
    "slideshow": {
     "slide_type": "slide"
    }
   },
   "outputs": [],
   "source": [
    "import pyposeidon.mesh as pm\n",
    "import geopandas as gp\n",
    "\n",
    "w = gp.read_file('./data/ocean.zip')\n",
    "\n",
    "## Global test\n",
    "mesh = pm.set(\n",
    "    type='tri2d',\n",
    "    geometry='global',\n",
    "    coastlines = w,\n",
    "    mesh_generator = 'jigsaw', \n",
    "    rpath = './global/',\n",
    "    dem_source='./data/dem.nc', \n",
    "    resolution_min=0.001,\n",
    "    resolution_max=.03,\n",
    "    use_bindings=False, #set this to True for jigsaw python bindings (not available yet)\n",
    "    dhdx=0.15, imax=100 # JIGSAW additional settings\n",
    "              )"
   ]
  },
  {
   "cell_type": "markdown",
   "metadata": {
    "slideshow": {
     "slide_type": "subslide"
    }
   },
   "source": [
    "<img src=\"jigsaw.png\" alt=\"Drawing\" style=\"width: 600px;\"/>"
   ]
  },
  {
   "cell_type": "code",
   "execution_count": null,
   "metadata": {
    "slideshow": {
     "slide_type": "slide"
    }
   },
   "outputs": [],
   "source": [
    "#validate against solver\n",
    "mesh.validate(rpath='./val/')\n",
    "#verify against boundaries\n",
    "mesh.verify(coastlines=w)\n",
    "# save to file\n",
    "mesh.to_file('hgrid.gr3')"
   ]
  },
  {
   "cell_type": "markdown",
   "metadata": {
    "slideshow": {
     "slide_type": "slide"
    }
   },
   "source": [
    "This presentation was made with RISE (https://rise.readthedocs.io/en/stable/index.html)\n",
    "\n",
    "and is available at https://github.com/brey/PRESENTATIONS/tree/main/mesh_workshop_March_2022/"
   ]
  }
 ],
 "metadata": {
  "celltoolbar": "Slideshow",
  "kernelspec": {
   "display_name": "pyPoseidon",
   "language": "python",
   "name": "pyposeidon"
  },
  "language_info": {
   "codemirror_mode": {
    "name": "ipython",
    "version": 3
   },
   "file_extension": ".py",
   "mimetype": "text/x-python",
   "name": "python",
   "nbconvert_exporter": "python",
   "pygments_lexer": "ipython3",
   "version": "3.8.12"
  },
  "rise": {
   "backimage": "slide.png",
   "scroll": true
  }
 },
 "nbformat": 4,
 "nbformat_minor": 4
}
