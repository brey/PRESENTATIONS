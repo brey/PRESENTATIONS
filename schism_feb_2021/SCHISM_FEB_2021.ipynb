{
 "cells": [
  {
   "cell_type": "markdown",
   "metadata": {
    "slideshow": {
     "slide_type": "slide"
    }
   },
   "source": [
    "# Towards tractable sea level simulations\n",
    "\n",
    "by \n",
    "George Breyiannis, European Commission - Joint Research Centre"
   ]
  },
  {
   "cell_type": "markdown",
   "metadata": {
    "slideshow": {
     "slide_type": "slide"
    }
   },
   "source": [
    "## Context"
   ]
  },
  {
   "cell_type": "markdown",
   "metadata": {
    "slideshow": {
     "slide_type": "subslide"
    }
   },
   "source": [
    "Unit: JRC.E.1 - Disaster Risk Management Unit\n",
    "\n",
    "Copernicus Emergency Management Service :https://emergency.copernicus.eu\n",
    "\n",
    "Floods Team:\n",
    "\n",
    "EFAS : https://www.efas.eu \n",
    "   \n",
    "GLOFAS : https://www.globalfloods.eu\n",
    "\n",
    "Coastal flooding component : Pre-Operational system for computing the hazard, evaluating exposure assessing the impact, analyzing compound events, etc.\n"
   ]
  },
  {
   "cell_type": "markdown",
   "metadata": {
    "slideshow": {
     "slide_type": "slide"
    }
   },
   "source": [
    "## Challenge"
   ]
  },
  {
   "cell_type": "markdown",
   "metadata": {
    "slideshow": {
     "slide_type": "subslide"
    }
   },
   "source": [
    "To develop a global integrated coastal flood risk management system that links \n",
    "\n",
    "- Satellite monitoring\n",
    "- Coupled wave, tide and surge forecasting\n",
    "- Inundation modelling \n",
    "- Impact analysis. "
   ]
  },
  {
   "cell_type": "markdown",
   "metadata": {
    "slideshow": {
     "slide_type": "subslide"
    }
   },
   "source": [
    "### Expected output\n",
    "\n",
    "(i) model coastal extreme water levels. \n",
    "\n",
    "(ii) derive joint return periods and inundation for concurring inland and coastal floods.\n",
    "\n",
    "(iii) calculate coastal flood impacts. \n",
    "\n"
   ]
  },
  {
   "cell_type": "markdown",
   "metadata": {
    "slideshow": {
     "slide_type": "slide"
    }
   },
   "source": [
    "## pyPoseidon\n",
    "\n",
    "A python framework for Hydrodynamic simulations (https://github.com/brey/pyPoseidon)"
   ]
  },
  {
   "cell_type": "markdown",
   "metadata": {
    "slideshow": {
     "slide_type": "subslide"
    }
   },
   "source": [
    "### Desired attributes\n",
    "    \n",
    "- Pre/Post processing\n",
    "- Multiple solvers\n",
    "- Reproducibility\n",
    "- Transparency\n",
    "- Portability \n",
    "- Scalability \n",
    "- Interoperability\n"
   ]
  },
  {
   "cell_type": "markdown",
   "metadata": {
    "slideshow": {
     "slide_type": "slide"
    }
   },
   "source": [
    "### Features\n",
    "- Handles Pre/Post processing (grid generation, automatic dataset retrieval and alignment, model setup, validation, etc.)\n",
    "\n",
    "- Reproducibility (Extensive logging, run signature, etc.)\n",
    "\n",
    "- Transparency (self contained in a package, open source, documented, etc.)\n",
    "\n",
    "- Expandability (open ended in features)\n",
    "\n",
    "- Portability (cross platform with conda & python) \n",
    "\n",
    "- Scalability (scales from portable computer to HPC)\n",
    "\n",
    "- Interoperability (based on ever an expanding set of popular python structures like pandas, xarray etc.)"
   ]
  },
  {
   "cell_type": "markdown",
   "metadata": {
    "slideshow": {
     "slide_type": "slide"
    }
   },
   "source": [
    "## Structure\n",
    "\n"
   ]
  },
  {
   "cell_type": "markdown",
   "metadata": {
    "slideshow": {
     "slide_type": "subslide"
    }
   },
   "source": [
    "### Modules:\n",
    "   * model\n",
    "   * **d3d** (http://oss.deltares.nl/web/delft3d/source-code)\n",
    "   * **schism** (http://ccrm.vims.edu/schismweb/)\n",
    "   * grid\n",
    "   * **jigsaw** (https://github.com/dengwirda/jigsaw)\n",
    "   * **ugmsh**  (http://gmsh.info)\n",
    "   * dem\n",
    "   * meteo\n",
    "   * utils\n",
    "   * *tide*\n",
    "   * misc"
   ]
  },
  {
   "cell_type": "markdown",
   "metadata": {
    "slideshow": {
     "slide_type": "slide"
    }
   },
   "source": [
    "# DEMO"
   ]
  },
  {
   "cell_type": "code",
   "execution_count": null,
   "metadata": {
    "slideshow": {
     "slide_type": "slide"
    }
   },
   "outputs": [],
   "source": [
    "import pyPoseidon\n",
    "import os\n",
    "DATA_PATH = os.path.dirname(pyPoseidon.__file__)\n",
    "pyPoseidon.__version__"
   ]
  },
  {
   "cell_type": "code",
   "execution_count": null,
   "metadata": {
    "scrolled": true,
    "slideshow": {
     "slide_type": "subslide"
    }
   },
   "outputs": [],
   "source": [
    "## Minimal test\n",
    "case = {\n",
    "    'solver':'schism',\n",
    "    'geometry':{\n",
    "        'lon_min' : -30.,\n",
    "        'lon_max' : -10.,\n",
    "        'lat_min' : 60.,\n",
    "        'lat_max' : 70.},\n",
    "     'start_date':'2017-10-1 0:0:0',\n",
    "     'time_frame':'12H',\n",
    "     'meteo_source' : [DATA_PATH + '/tests/data/erai.grib'], #meteo files\n",
    "     'meteo_engine' : 'cfgrib',\n",
    "     'dem_source': DATA_PATH + '/tests/data/dem.nc', #path for dem file\n",
    "       }"
   ]
  },
  {
   "cell_type": "code",
   "execution_count": null,
   "metadata": {
    "scrolled": true,
    "slideshow": {
     "slide_type": "slide"
    }
   },
   "outputs": [],
   "source": [
    "b = pyPoseidon.model(**case)\n",
    "b.execute()"
   ]
  },
  {
   "cell_type": "code",
   "execution_count": null,
   "metadata": {
    "slideshow": {
     "slide_type": "slide"
    }
   },
   "outputs": [],
   "source": [
    "b.get_data()"
   ]
  },
  {
   "cell_type": "code",
   "execution_count": null,
   "metadata": {
    "slideshow": {
     "slide_type": "slide"
    }
   },
   "outputs": [],
   "source": [
    "b.data.Dataset"
   ]
  },
  {
   "cell_type": "code",
   "execution_count": null,
   "metadata": {
    "slideshow": {
     "slide_type": "slide"
    }
   },
   "outputs": [],
   "source": [
    "b.data.Dataset.hplot.grid(width=1200,height=800)"
   ]
  },
  {
   "cell_type": "code",
   "execution_count": null,
   "metadata": {
    "slideshow": {
     "slide_type": "slide"
    }
   },
   "outputs": [],
   "source": [
    "b.data.Dataset.hplot.frames(var='elev', width=1200, height=800)"
   ]
  },
  {
   "cell_type": "code",
   "execution_count": null,
   "metadata": {
    "slideshow": {
     "slide_type": "slide"
    }
   },
   "outputs": [],
   "source": [
    "#### Simulation signature is in the json file\n",
    "\n",
    "!ls schism/\n"
   ]
  },
  {
   "cell_type": "code",
   "execution_count": null,
   "metadata": {
    "slideshow": {
     "slide_type": "fragment"
    }
   },
   "outputs": [],
   "source": [
    "!python3 -m json.tool schism/schism_model.json"
   ]
  },
  {
   "cell_type": "code",
   "execution_count": null,
   "metadata": {
    "slideshow": {
     "slide_type": "slide"
    }
   },
   "outputs": [],
   "source": [
    "c = pyPoseidon.read_model('schism/schism_model.json')"
   ]
  },
  {
   "cell_type": "code",
   "execution_count": null,
   "metadata": {
    "scrolled": true,
    "slideshow": {
     "slide_type": "fragment"
    }
   },
   "outputs": [],
   "source": [
    "c.execute()"
   ]
  },
  {
   "cell_type": "markdown",
   "metadata": {
    "slideshow": {
     "slide_type": "slide"
    }
   },
   "source": [
    " ### Current Release : 0.4.0\n",
    "    \n",
    "    with preliminary support for GMSH \n",
    "    \n",
    "    - More robust for HR coastlines\n",
    "    - Many advanced features"
   ]
  },
  {
   "cell_type": "code",
   "execution_count": null,
   "metadata": {
    "slideshow": {
     "slide_type": "slide"
    }
   },
   "outputs": [],
   "source": [
    "import xarray as xr\n",
    "grid = xr.open_dataset('ice.nc')\n",
    "\n",
    "grid.hplot.grid(width=1200, height=800)"
   ]
  },
  {
   "cell_type": "markdown",
   "metadata": {
    "slideshow": {
     "slide_type": "slide"
    }
   },
   "source": [
    "### Utilities include\n",
    "\n",
    "- Adjust Bathymetry to coastlines\n",
    "- Create a seam to a global grid for 2d visualizations\n",
    "- Initiate and manage a forecast workflow"
   ]
  },
  {
   "cell_type": "markdown",
   "metadata": {
    "slideshow": {
     "slide_type": "slide"
    }
   },
   "source": [
    "### Installation\n",
    "\n",
    "`conda install -c gbrey pyPoseidon`\n",
    "\n",
    "You can also install SCHISM with \n",
    "\n",
    "`conda install -c gbrey pschism`"
   ]
  },
  {
   "cell_type": "markdown",
   "metadata": {
    "slideshow": {
     "slide_type": "slide"
    }
   },
   "source": [
    "# Current status of pre-operational setup"
   ]
  },
  {
   "cell_type": "markdown",
   "metadata": {
    "slideshow": {
     "slide_type": "slide"
    }
   },
   "source": [
    "- Functional API for SCHISM in pyPoseidon (done)\n",
    "\n",
    "- Conda integration (done)\n",
    "\n",
    "- Work flow for operational storm surge forecasting (tested)\n",
    "\n",
    "- Preliminary validation for Europe (completed)\n",
    "\n",
    "- Integration of Waves (under testing)\n",
    "\n",
    "- Inundation configuration (under testing)\n",
    "\n",
    "- Global simulations (under testing)\n",
    "\n",
    "- Tide integration (under testing)"
   ]
  },
  {
   "cell_type": "markdown",
   "metadata": {
    "slideshow": {
     "slide_type": "slide"
    }
   },
   "source": [
    "## Outlook"
   ]
  },
  {
   "cell_type": "markdown",
   "metadata": {
    "slideshow": {
     "slide_type": "subslide"
    }
   },
   "source": [
    "#### Milestones\n",
    "\n",
    "- Reference Global grid\n",
    "- Hindcast (ERA5)\n",
    "- Validation/Verification/Skill\n",
    "- Validated Integration of Tides/Waves\n",
    "- Nesting\n",
    "- Inundation \n",
    "- Compound flooding\n",
    "- pyPoseidon documentation"
   ]
  },
  {
   "cell_type": "markdown",
   "metadata": {
    "slideshow": {
     "slide_type": "subslide"
    }
   },
   "source": [
    "#### Long term goals\n",
    "\n",
    "- Extend pyPoseidon to include new solvers and/or processes\n",
    "- Encourage and support coastal topobathy analysis\n",
    "- Support community of users and developers (hopefully)\n",
    "- Produce (reproducible) datasets for usage in Disaster Risk Management\n",
    "- Data analytics\n"
   ]
  },
  {
   "cell_type": "markdown",
   "metadata": {
    "slideshow": {
     "slide_type": "slide"
    }
   },
   "source": [
    "## Open issues\n",
    "\n",
    "- Calibration of bottom friction coefficient\n",
    "- Topobathy\n",
    "- Satellite data (time acquisition frequency)\n",
    "- 3D\n",
    "- Validation data (in-situ data cleanup)"
   ]
  },
  {
   "cell_type": "markdown",
   "metadata": {
    "slideshow": {
     "slide_type": "slide"
    }
   },
   "source": [
    "This presentation was made with RISE (https://rise.readthedocs.io/en/stable/index.html)\n",
    "\n",
    "and is available at https://github.com/brey/PRESENTATIONS/blob/main/schism_feb_2021/SCHISM_FEB_2021.ipynb"
   ]
  }
 ],
 "metadata": {
  "celltoolbar": "Slideshow",
  "kernelspec": {
   "display_name": "pyPoseidon",
   "language": "python",
   "name": "pyposeidon"
  },
  "language_info": {
   "codemirror_mode": {
    "name": "ipython",
    "version": 3
   },
   "file_extension": ".py",
   "mimetype": "text/x-python",
   "name": "python",
   "nbconvert_exporter": "python",
   "pygments_lexer": "ipython3",
   "version": "3.8.12"
  },
  "rise": {
   "backimage": "slide.png",
   "scroll": true
  }
 },
 "nbformat": 4,
 "nbformat_minor": 4
}
